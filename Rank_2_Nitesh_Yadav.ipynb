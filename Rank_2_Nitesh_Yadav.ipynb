{
 "cells": [
  {
   "cell_type": "markdown",
   "metadata": {},
   "source": [
    "#### Brief Descriptions of Attributes in Dataset\n",
    "\n",
    "    Unique_ID : Unique Identifier.\n",
    "    Name : Name of the Artist.\n",
    "    Genre : Genre of the Song.\n",
    "    Country : Origin Country of Artist.\n",
    "    Song_Name : Name of the Song.\n",
    "    Timestamp : Release Date and Time.\n",
    "    Views : Number of times the song was played/viewed (*Target/Dependent Variable*).\n",
    "    Comments : Count of comments for the song.\n",
    "    Likes : Count of Likes.\n",
    "    Popularity : Popularity score for the artist.\n",
    "    Followers : Number of Followers.\n",
    "\n",
    "#### Files description:\n",
    "\n",
    "    Data_Train.csv – the training set, 78458 rows with 11 columns.\n",
    "    Data_Test.csv – the test set, 19615 rows with 10 columns, except the Views column.\n",
    "   \n",
    "<h5>I am going to explain all my approaches whether it gives best result or not.</h5>\n",
    "##### Approach 1:\n",
    "<ul>\n",
    "<li>I just convert non-numeric features in float.\n",
    "<li>Extract year , month, day, week_day from timestamp features.\n",
    "<li>On the basis of corelation matrix, I build my first model.\n",
    "<li>As most classical algorithm for regression problem, I applied LinearReggression which provides\n",
    "good result to start with decent Rank.\n",
    "</ul>\n",
    "\n",
    "##### Approach 2 :\n",
    "<ul>\n",
    "<li>Now, after some EDA I got an idea about the relation between other features with target.\n",
    "<li>Did one-hot encoding on 'Genre'.\n",
    "<li>Simply applied RandomForest.\n",
    "<li>Extracted only important features though feature_importances_ in RandomForest which contains\n",
    "all numeric features, year,month, couple of Genres.\n",
    "</ul>\n",
    "\n",
    "##### Approach 3 :\n",
    "<ul>\n",
    "<li>Then, I used stacked ensemble model where my stack of algorithms is - RandomForestRegressor, CatBoostRegressor<br>LGBMRegressor and XGBoostRegressor.         \n",
    "<li>After performing hyperparameter tuning with the help of GridSearch , this model helps me to reduce my RMSE too much.\n",
    "</ul>\n",
    "\n",
    "##### Approach 4 :\n",
    "<ul>\n",
    "<li>We know that as much as data we have our model is going to learn better and I tried some data augmentation techniques too.\n",
    "</ul>\n",
    "Then I observe in this dataset and applied this approach :"
   ]
  },
  {
   "cell_type": "code",
   "execution_count": 7,
   "metadata": {},
   "outputs": [],
   "source": [
    "%matplotlib inline"
   ]
  },
  {
   "cell_type": "code",
   "execution_count": 8,
   "metadata": {},
   "outputs": [],
   "source": [
    "import matplotlib.pyplot as plt\n",
    "import matplotlib.image as mpimg"
   ]
  },
  {
   "cell_type": "code",
   "execution_count": 9,
   "metadata": {},
   "outputs": [],
   "source": [
    "img = mpimg.imread('Blank_Diagram.png')"
   ]
  },
  {
   "cell_type": "code",
   "execution_count": 19,
   "metadata": {},
   "outputs": [
    {
     "data": {
      "text/plain": [
       "<matplotlib.image.AxesImage at 0x7fc40f635ef0>"
      ]
     },
     "execution_count": 19,
     "metadata": {},
     "output_type": "execute_result"
    },
    {
     "data": {
      "image/png": "[encoded data removed]",
      "text/plain": [
       "<Figure size 1440x432 with 1 Axes>"
      ]
     },
     "metadata": {},
     "output_type": "display_data"
    }
   ],
   "source": [
    "plt.figure(figsize=(20,6))\n",
    "plt.imshow(img)"
   ]
  },
  {
   "cell_type": "markdown",
   "metadata": {},
   "source": [
    "Iterating over this loop is going to converge towards lower RMSE. This doesn't mean that if we perform more <br>\n",
    "iterations then our RMSE becomes zero. At some point things is going worse due to this looping and needs some <br>other features and hyperparameter tuning.\n",
    "<br>This time I just used XGBoostRegressor."
   ]
  },
  {
   "cell_type": "markdown",
   "metadata": {
    "colab_type": "text",
    "id": "1FQ-zd3rOVoQ"
   },
   "source": [
    "### Imports"
   ]
  },
  {
   "cell_type": "code",
   "execution_count": null,
   "metadata": {
    "colab": {},
    "colab_type": "code",
    "id": "GR6488MwoQrS",
    "scrolled": true
   },
   "outputs": [],
   "source": [
    "import pickle\n",
    "import numpy as np\n",
    "import regex as re\n",
    "import pandas as pd\n",
    "import seaborn as sb\n",
    "import datetime as dt\n",
    "import xgboost as xgb\n",
    "\n",
    "from math import sqrt\n",
    "from datetime import date\n",
    "from matplotlib import pyplot as plt\n",
    "from sklearn.metrics import mean_squared_error\n",
    "from sklearn.ensemble import RandomForestRegressor\n",
    "from sklearn.linear_model import LinearRegression\n",
    "from sklearn.model_selection import train_test_split"
   ]
  },
  {
   "cell_type": "markdown",
   "metadata": {
    "colab_type": "text",
    "id": "748I20jHORbl"
   },
   "source": [
    "### Mounting google drive"
   ]
  },
  {
   "cell_type": "code",
   "execution_count": null,
   "metadata": {
    "colab": {
     "base_uri": "https://localhost:8080/",
     "height": 124
    },
    "colab_type": "code",
    "id": "EO3xrNniVMgU",
    "outputId": "9cfd1a39-cd2d-45d6-b200-72564750311b",
    "scrolled": true
   },
   "outputs": [],
   "source": [
    "from google.colab import drive\n",
    "drive.mount('/content/drive')"
   ]
  },
  {
   "cell_type": "markdown",
   "metadata": {
    "colab_type": "text",
    "id": "v71rs3IaOaFp"
   },
   "source": [
    "## Introducing Train_set"
   ]
  },
  {
   "cell_type": "code",
   "execution_count": null,
   "metadata": {
    "colab": {},
    "colab_type": "code",
    "id": "euELNpoioTSA",
    "scrolled": true
   },
   "outputs": [],
   "source": [
    "df = pd.read_csv('/content/drive/My Drive/Data_Train.csv')"
   ]
  },
  {
   "cell_type": "code",
   "execution_count": null,
   "metadata": {
    "colab": {},
    "colab_type": "code",
    "id": "7kFO5Z31Hnsv",
    "scrolled": true
   },
   "outputs": [],
   "source": [
    "df.drop(columns=['Country'],inplace=True)"
   ]
  },
  {
   "cell_type": "code",
   "execution_count": null,
   "metadata": {
    "colab": {},
    "colab_type": "code",
    "id": "oV0Xe9CpbW0C",
    "scrolled": true
   },
   "outputs": [],
   "source": [
    "# Convert Timestamp column into datetime datatype\n",
    "df['Timestamp'] = pd.to_datetime(df['Timestamp']).dt.strftime('%Y-%m-%d %H:%I:%S')\n",
    "#set Timestamp as index\n",
    "df.index = df['Timestamp']\n",
    "#drop Timestamp column from original dataset\n",
    "#df.drop(columns=['Timestamp'],inplace=True)\n",
    "\n",
    "#sorting by index\n",
    "df.sort_index(inplace=True)"
   ]
  },
  {
   "cell_type": "code",
   "execution_count": null,
   "metadata": {
    "colab": {
     "base_uri": "https://localhost:8080/",
     "height": 208
    },
    "colab_type": "code",
    "id": "1yx_GL3ApVuL",
    "outputId": "64c104ea-cb5c-475b-d224-9c04a8478129",
    "scrolled": true
   },
   "outputs": [],
   "source": [
    "df.dtypes"
   ]
  },
  {
   "cell_type": "code",
   "execution_count": null,
   "metadata": {
    "colab": {
     "base_uri": "https://localhost:8080/",
     "height": 175
    },
    "colab_type": "code",
    "id": "Zje9S0Bwi7LV",
    "outputId": "c1cde47c-7911-43c9-8a17-e47161cf77bf",
    "scrolled": true
   },
   "outputs": [],
   "source": [
    "df.describe().T"
   ]
  },
  {
   "cell_type": "code",
   "execution_count": null,
   "metadata": {
    "colab": {
     "base_uri": "https://localhost:8080/",
     "height": 456
    },
    "colab_type": "code",
    "id": "bsldonxNTEnt",
    "outputId": "0ccbe4a8-4026-4929-f09c-99e8c5400bb7",
    "scrolled": true
   },
   "outputs": [],
   "source": [
    "plt.figure(figsize=(20,4))\n",
    "plt.hist(df['Genre'],bins=21)"
   ]
  },
  {
   "cell_type": "code",
   "execution_count": null,
   "metadata": {
    "colab": {},
    "colab_type": "code",
    "id": "-2oFWGS9RvUI",
    "scrolled": true
   },
   "outputs": [],
   "source": [
    "df.groupby('Name').mean()['Views'].sort_values().plot(kind='bar',figsize=(10,4))\n",
    "plt.title(\"Distribution of Views, Name-wise\")\n",
    "#plt.savefig('/content/drive/My Drive/Distribution-of-Views-Name-wise.jpg')"
   ]
  },
  {
   "cell_type": "code",
   "execution_count": null,
   "metadata": {
    "colab": {
     "base_uri": "https://localhost:8080/",
     "height": 225
    },
    "colab_type": "code",
    "id": "tO2UoKKYnqS5",
    "outputId": "a5e81584-4f0d-4101-bb6f-a2d816cf2b23",
    "scrolled": true
   },
   "outputs": [],
   "source": [
    "df.groupby('Genre').count()['Views'].sort_values()[-10:]"
   ]
  },
  {
   "cell_type": "code",
   "execution_count": null,
   "metadata": {
    "colab": {},
    "colab_type": "code",
    "id": "3a2SIRZYmOU8",
    "scrolled": true
   },
   "outputs": [],
   "source": [
    "tmp = pd.pivot_table(df,values='Comments',index='Genre',columns=['Year'], aggfunc=np.mean, fill_value=0)\n",
    "tmp.head()"
   ]
  },
  {
   "cell_type": "code",
   "execution_count": null,
   "metadata": {
    "colab": {},
    "colab_type": "code",
    "id": "1FiorXypAuPE",
    "scrolled": true
   },
   "outputs": [],
   "source": [
    "plt.figure(figsize=(20,25))\n",
    "i=1\n",
    "for col in tmp.columns:\n",
    "    plt.subplot(7,3,i)\n",
    "    tmp[col].plot()\n",
    "    plt.title(col,fontsize=14)\n",
    "    plt.xlabel(\"\")\n",
    "    i+=1\n",
    "\n",
    "plt.savefig('/content/drive/My Drive/Genre-Year-Wise-Distibution.jpg')"
   ]
  },
  {
   "cell_type": "markdown",
   "metadata": {
    "colab_type": "text",
    "id": "UrJSvfu9owxA"
   },
   "source": [
    "## Feature Engineering :"
   ]
  },
  {
   "cell_type": "code",
   "execution_count": null,
   "metadata": {
    "scrolled": true
   },
   "outputs": [],
   "source": [
    "df['Year'] = date.today().year - pd.DatetimeIndex(df.index).year  #New Feature - Year Number\n",
    "df['Month'] = pd.DatetimeIndex(df.index).month                    #New Feature - Month Number\n",
    "df['day_name'] = pd.DatetimeIndex(df.index).dayofweek             #New Feature - Day of Week Number"
   ]
  },
  {
   "cell_type": "code",
   "execution_count": null,
   "metadata": {
    "colab": {
     "base_uri": "https://localhost:8080/",
     "height": 52
    },
    "colab_type": "code",
    "id": "DBh81fNAov_y",
    "outputId": "4330be73-7610-444c-93c9-66fb59caf485",
    "scrolled": true
   },
   "outputs": [],
   "source": [
    "# Log\n",
    "df['Log_likes'] = np.log(df['Likes'])\n",
    "df['Log_Comments'] = np.log(df['Comments'])\n",
    "df['Log_Followers'] = np.log(df['Followers'])\n",
    "df['Log_Popularity'] = np.log(df['Popularity'])\n",
    "\n",
    "# SQRT\n",
    "df['Sqrt_likes'] = np.sqrt(df['Likes'])\n",
    "df['Sqrt_Comments'] = np.sqrt(df['Comments'])\n",
    "df['Sqrt_Followers'] = np.sqrt(df['Followers'])\n",
    "df['Sqrt_Popularity'] = np.sqrt(df['Popularity'])\n",
    "\n",
    "# Standarize\n",
    "df['Std_likes'] = (df['Likes']  - df['Likes'].mean())/df['Likes'].std()\n",
    "df['Std_Comments'] = (df['Comments']-df['Comments'].mean())/df['Comments'].std()\n",
    "df['Std_Followers'] = (df['Followers'] -df['Followers'].mean() )/df['Followers'].std()\n",
    "df['Std_Popularity'] = (df['Popularity'] -df['Popularity'].mean() )/df['Popularity'].std()\n"
   ]
  },
  {
   "cell_type": "code",
   "execution_count": null,
   "metadata": {
    "colab": {},
    "colab_type": "code",
    "id": "5OGyG9RXov7T",
    "scrolled": true
   },
   "outputs": [],
   "source": [
    "#Year-wise Genre\n",
    "tmp = pd.pivot_table(df,values='Comments',index='Genre',columns=['Year'], aggfunc='count', fill_value=0)\n",
    "tmp.head()\n",
    "for index in tmp.index:\n",
    "  for col in tmp.columns:\n",
    "    df.loc[(df['Genre']==index)  & (df['Year']==col),'Genre_year'] = list(tmp[tmp.index==index][col])*int(tmp[tmp.index==index][col])\n",
    "\n",
    "#Name-wise Genre\n",
    "tmp = pd.pivot_table(df,values='Comments',index='Name',columns=['Year'], aggfunc='count', fill_value=0)\n",
    "tmp.head()\n",
    "for index in tmp.index:\n",
    "  for col in tmp.columns:\n",
    "    df.loc[(df['Name']==index)  & (df['Year']==col),'Name_year'] = list(tmp[tmp.index==index][col])*int(tmp[tmp.index==index][col])\n",
    "\n",
    "#Month-wise Genre\n",
    "tmp = pd.pivot_table(df,values='Comments',index='Genre',columns=['Month'], aggfunc='count', fill_value=0)\n",
    "tmp.head()\n",
    "for index in tmp.index:\n",
    "  for col in tmp.columns:\n",
    "    df.loc[(df['Genre']==index)  & (df['Month']==col),'Genre_month'] = list(tmp[tmp.index==index][col])*int(tmp[tmp.index==index][col])\n",
    "\n",
    "#Month-wise Name\n",
    "tmp = pd.pivot_table(df,values='Comments',index='Name',columns=['Month'], aggfunc='count', fill_value=0)\n",
    "tmp.head()\n",
    "for index in tmp.index:\n",
    "  for col in tmp.columns:\n",
    "    df.loc[(df['Name']==index)  & (df['Month']==col),'Name_month'] = list(tmp[tmp.index==index][col])*int(tmp[tmp.index==index][col])\n",
    "\n",
    "df = df.replace([np.inf,-np.inf],np.nan)"
   ]
  },
  {
   "cell_type": "code",
   "execution_count": null,
   "metadata": {
    "colab": {
     "base_uri": "https://localhost:8080/",
     "height": 538
    },
    "colab_type": "code",
    "id": "6NfMnpsK9LSs",
    "outputId": "8486eda8-7531-4666-dbf1-12b722e95e7b",
    "scrolled": true
   },
   "outputs": [],
   "source": [
    "df.isna().sum()"
   ]
  },
  {
   "cell_type": "code",
   "execution_count": null,
   "metadata": {
    "colab": {},
    "colab_type": "code",
    "id": "ceu1sNgz9LQa",
    "scrolled": true
   },
   "outputs": [],
   "source": [
    "df = df.fillna(0)"
   ]
  },
  {
   "cell_type": "markdown",
   "metadata": {
    "colab_type": "text",
    "id": "naZKtgvLNyNX"
   },
   "source": [
    "## Preprocessing\n"
   ]
  },
  {
   "cell_type": "code",
   "execution_count": null,
   "metadata": {},
   "outputs": [],
   "source": [
    "def makeNumeric(data,col):\n",
    "    df[col] = df[col].str.replace(',','')\n",
    "    likes = []\n",
    "    for d in df[col]:\n",
    "        if d.endswith('K'):\n",
    "            likes.append(float(d.replace('K',''))*1000)\n",
    "        elif d.endswith('M'):\n",
    "            likes.append(float(d.replace('M',''))*1000000)\n",
    "        else:\n",
    "            likes.append(float(d))\n",
    "    return likes"
   ]
  },
  {
   "cell_type": "code",
   "execution_count": null,
   "metadata": {
    "colab": {},
    "colab_type": "code",
    "id": "qI1OUdDTbWbh",
    "scrolled": true
   },
   "outputs": [],
   "source": [
    "df['Likes'] = makeNumeric(df,'Likes')"
   ]
  },
  {
   "cell_type": "code",
   "execution_count": null,
   "metadata": {
    "colab": {},
    "colab_type": "code",
    "id": "vr51L5YgbtcU",
    "scrolled": true
   },
   "outputs": [],
   "source": [
    "df['Popularity'] = makeNumeric(df,'Popularity')"
   ]
  },
  {
   "cell_type": "markdown",
   "metadata": {
    "colab_type": "text",
    "id": "y-kqubL1OHiS"
   },
   "source": [
    "### One-hot Encoding of Genre"
   ]
  },
  {
   "cell_type": "code",
   "execution_count": null,
   "metadata": {
    "colab": {},
    "colab_type": "code",
    "id": "Ly27wve3btZG",
    "scrolled": true
   },
   "outputs": [],
   "source": [
    "df = pd.concat([df,pd.get_dummies(df['Genre'])] ,axis=1 )"
   ]
  },
  {
   "cell_type": "code",
   "execution_count": null,
   "metadata": {
    "colab": {},
    "colab_type": "code",
    "id": "i_kDKeX9fBWo",
    "scrolled": true
   },
   "outputs": [],
   "source": [
    "df.drop(columns=['Genre'],inplace=True)"
   ]
  },
  {
   "cell_type": "markdown",
   "metadata": {
    "colab_type": "text",
    "id": "xEMVgBTy1AUL"
   },
   "source": [
    "### One-hot encoding Name"
   ]
  },
  {
   "cell_type": "code",
   "execution_count": null,
   "metadata": {
    "colab": {},
    "colab_type": "code",
    "id": "shgEK-CI1LVc",
    "scrolled": true
   },
   "outputs": [],
   "source": [
    "df['Name'] = df['Name'].str.replace('[^\\w\\s#@/:%.,_-]', '', flags=re.UNICODE)  \n",
    "# removing emojis and special characters"
   ]
  },
  {
   "cell_type": "code",
   "execution_count": null,
   "metadata": {
    "colab": {},
    "colab_type": "code",
    "id": "cs_wcY_C0_4M",
    "scrolled": true
   },
   "outputs": [],
   "source": [
    "df = pd.concat([df,pd.get_dummies(df['Name'])] ,axis=1 )"
   ]
  },
  {
   "cell_type": "code",
   "execution_count": null,
   "metadata": {
    "colab": {},
    "colab_type": "code",
    "id": "OU82lsEf6RCB",
    "scrolled": true
   },
   "outputs": [],
   "source": [
    "#extracting top words occuring in Name feature\n",
    "df['Name'] = df['Name'].str.lower()\n",
    "top_name  =  pd.Series(' '.join(df['Name']).lower().split()).value_counts()[:100]\n",
    "top_name = top_name.index\n",
    "\n",
    "for top in reversed(top_name):\n",
    "    df.loc[(df['Name'].str.contains(str(top))==True),'Top_name'] = top\n",
    "\n",
    "\n",
    "df = pd.concat([df,pd.get_dummies(df['Top_name'])] ,axis=1 )"
   ]
  },
  {
   "cell_type": "markdown",
   "metadata": {
    "colab_type": "text",
    "id": "s_IzKy-tWlbY"
   },
   "source": [
    "### Coorelation Heatmap :"
   ]
  },
  {
   "cell_type": "code",
   "execution_count": null,
   "metadata": {
    "colab": {},
    "colab_type": "code",
    "id": "LNYCyJIp5Q9a",
    "scrolled": true
   },
   "outputs": [],
   "source": [
    "plt.figure(figsize=(20,15))\n",
    "sb.heatmap(df.corr(),annot=True,cmap='Blues')"
   ]
  },
  {
   "cell_type": "markdown",
   "metadata": {
    "colab_type": "text",
    "id": "f1AKQOLeULyD"
   },
   "source": [
    "### Relation among all features :"
   ]
  },
  {
   "cell_type": "code",
   "execution_count": null,
   "metadata": {
    "colab": {
     "base_uri": "https://localhost:8080/",
     "height": 1000
    },
    "colab_type": "code",
    "id": "v3fwCUPqtEsA",
    "outputId": "1e84a489-6ea1-4708-994b-dbba5b7d9d6c",
    "scrolled": true
   },
   "outputs": [],
   "source": [
    "sb.pairplot(df[['Views',\n",
    "       'Comments', 'Likes', 'Popularity', 'Followers', 'Year', 'Month',\n",
    "       'day_name']],diag_kind='kde')"
   ]
  },
  {
   "cell_type": "markdown",
   "metadata": {
    "colab_type": "text",
    "id": "HIEDpCi1T6_N"
   },
   "source": [
    "### Distribution of numeric features over the timestamp"
   ]
  },
  {
   "cell_type": "code",
   "execution_count": null,
   "metadata": {
    "colab": {
     "base_uri": "https://localhost:8080/",
     "height": 624
    },
    "colab_type": "code",
    "id": "xLYxaL6CwTlt",
    "outputId": "6fed942f-4c5c-46f2-ea39-3cf27a103ef1",
    "scrolled": true
   },
   "outputs": [],
   "source": [
    "plt.figure(figsize=(20,10))\n",
    "plt.subplot(3,2,1)\n",
    "df['Views'].plot()\n",
    "plt.title('Views')\n",
    "plt.xlabel(\"\")\n",
    "\n",
    "plt.subplot(3,2,2)\n",
    "df['Comments'].plot()\n",
    "plt.title('Comments')\n",
    "plt.xlabel(\"\")\n",
    "\n",
    "plt.subplot(3,2,3)\n",
    "df['Popularity'].plot()\n",
    "plt.title('Popularity')\n",
    "plt.xlabel(\"\")\n",
    "\n",
    "plt.subplot(3,2,4)\n",
    "df['Likes'].plot()\n",
    "plt.title('Likes')\n",
    "plt.xlabel(\"\")\n",
    "\n",
    "plt.subplot(3,2,5)\n",
    "df['Followers'].plot()\n",
    "plt.title('Followers')\n",
    "plt.xlabel(\"\")\n",
    "\n"
   ]
  },
  {
   "cell_type": "markdown",
   "metadata": {
    "colab_type": "text",
    "id": "L_cHy_2zUXwc"
   },
   "source": [
    "### Other Features Vs Views"
   ]
  },
  {
   "cell_type": "code",
   "execution_count": null,
   "metadata": {
    "colab": {
     "base_uri": "https://localhost:8080/",
     "height": 348
    },
    "colab_type": "code",
    "id": "iIlPuhZUzFuC",
    "outputId": "f84b1c34-3d88-41e2-e76a-f11f8aba5fe9",
    "scrolled": true
   },
   "outputs": [],
   "source": [
    "plt.figure(figsize=(16,5))\n",
    "plt.scatter(df['Likes'],df['Views'])"
   ]
  },
  {
   "cell_type": "code",
   "execution_count": null,
   "metadata": {
    "colab": {},
    "colab_type": "code",
    "id": "mMGSZCW6HW6O",
    "scrolled": true
   },
   "outputs": [],
   "source": [
    "df = df[df['Likes']<=2500000] #removing Outlier"
   ]
  },
  {
   "cell_type": "code",
   "execution_count": null,
   "metadata": {
    "colab": {
     "base_uri": "https://localhost:8080/",
     "height": 348
    },
    "colab_type": "code",
    "id": "Kg7RDXIRx--k",
    "outputId": "c9b80a46-cf85-479d-bbad-e6cb254d8c67",
    "scrolled": true
   },
   "outputs": [],
   "source": [
    "plt.figure(figsize=(16,5))\n",
    "plt.scatter((df['Comments']),df['Views'])"
   ]
  },
  {
   "cell_type": "code",
   "execution_count": null,
   "metadata": {
    "colab": {},
    "colab_type": "code",
    "id": "InhuvZLJPpg0",
    "scrolled": true
   },
   "outputs": [],
   "source": [
    "df = df[df['Comments']<=80000] #removing Outlier"
   ]
  },
  {
   "cell_type": "code",
   "execution_count": null,
   "metadata": {
    "colab": {
     "base_uri": "https://localhost:8080/",
     "height": 348
    },
    "colab_type": "code",
    "id": "l-qK2bZQzICq",
    "outputId": "749f6236-bc88-4a25-d4d5-86b371d5f397",
    "scrolled": true
   },
   "outputs": [],
   "source": [
    "plt.figure(figsize=(16,5))\n",
    "plt.scatter((df['Popularity']),df['Views'])"
   ]
  },
  {
   "cell_type": "code",
   "execution_count": null,
   "metadata": {
    "colab": {},
    "colab_type": "code",
    "id": "Gqslr0ugH9-a",
    "scrolled": true
   },
   "outputs": [],
   "source": [
    "df = df[df['Popularity']<=250000] #removing Outlier"
   ]
  },
  {
   "cell_type": "code",
   "execution_count": null,
   "metadata": {
    "colab": {
     "base_uri": "https://localhost:8080/",
     "height": 361
    },
    "colab_type": "code",
    "id": "zF_TM93nzN9K",
    "outputId": "2142abd5-653b-4370-8d35-0fd0406cbc31",
    "scrolled": true
   },
   "outputs": [],
   "source": [
    "plt.figure(figsize=(16,5))\n",
    "plt.scatter((df['Followers']),df['Views'])"
   ]
  },
  {
   "cell_type": "code",
   "execution_count": null,
   "metadata": {
    "colab": {
     "base_uri": "https://localhost:8080/",
     "height": 348
    },
    "colab_type": "code",
    "id": "eR-cq_kfzKjC",
    "outputId": "e4b476c3-e027-422d-cb57-2c2afd431747",
    "scrolled": true
   },
   "outputs": [],
   "source": [
    "plt.figure(figsize=(16,5))\n",
    "plt.scatter(df['Month'],df['Views'])"
   ]
  },
  {
   "cell_type": "code",
   "execution_count": null,
   "metadata": {
    "colab": {
     "base_uri": "https://localhost:8080/",
     "height": 348
    },
    "colab_type": "code",
    "id": "ez2aveD1zQhN",
    "outputId": "d53e9fc3-d636-4a6e-ccdc-a986078b3607",
    "scrolled": true
   },
   "outputs": [],
   "source": [
    "plt.figure(figsize=(16,5))\n",
    "plt.scatter(df['Year'],df['Views'])"
   ]
  },
  {
   "cell_type": "markdown",
   "metadata": {
    "colab_type": "text",
    "id": "WGDwUgCrWd2g"
   },
   "source": [
    "### Box Plots"
   ]
  },
  {
   "cell_type": "code",
   "execution_count": null,
   "metadata": {
    "colab": {
     "base_uri": "https://localhost:8080/",
     "height": 282
    },
    "colab_type": "code",
    "id": "9TbhHL39ox3a",
    "outputId": "64419f3c-a155-449c-e7e0-c4f488cad5fa",
    "scrolled": true
   },
   "outputs": [],
   "source": [
    "df['Likes'].plot(kind='box')"
   ]
  },
  {
   "cell_type": "code",
   "execution_count": null,
   "metadata": {
    "colab": {
     "base_uri": "https://localhost:8080/",
     "height": 282
    },
    "colab_type": "code",
    "id": "v4CZ6kkPss82",
    "outputId": "3eac64af-6d12-4bb8-811c-15ec3289aa83",
    "scrolled": true
   },
   "outputs": [],
   "source": [
    "df['Popularity'].plot(kind='box')"
   ]
  },
  {
   "cell_type": "code",
   "execution_count": null,
   "metadata": {
    "colab": {
     "base_uri": "https://localhost:8080/",
     "height": 337
    },
    "colab_type": "code",
    "id": "KyAtOu5dtKVs",
    "outputId": "e3be2f9c-e52d-4cd3-8e52-c6d662db609b",
    "scrolled": true
   },
   "outputs": [],
   "source": [
    "df['Comments'].plot('box')"
   ]
  },
  {
   "cell_type": "code",
   "execution_count": null,
   "metadata": {
    "colab": {
     "base_uri": "https://localhost:8080/",
     "height": 293
    },
    "colab_type": "code",
    "id": "0C1K-azotoLP",
    "outputId": "2cce142d-d921-42ab-b20d-b4fbc446fbfa",
    "scrolled": true
   },
   "outputs": [],
   "source": [
    "df['Followers'].plot(kind='box')"
   ]
  },
  {
   "cell_type": "markdown",
   "metadata": {
    "colab_type": "text",
    "id": "QXDZn9muNUGJ"
   },
   "source": [
    "## Splitting dataset"
   ]
  },
  {
   "cell_type": "code",
   "execution_count": null,
   "metadata": {
    "colab": {
     "base_uri": "https://localhost:8080/",
     "height": 278
    },
    "colab_type": "code",
    "id": "uPxXEPPfUiVf",
    "outputId": "6cbce4fe-5c30-42ac-d201-3ccf3bddd8d3",
    "scrolled": true
   },
   "outputs": [],
   "source": [
    "df.columns"
   ]
  },
  {
   "cell_type": "code",
   "execution_count": null,
   "metadata": {
    "colab": {},
    "colab_type": "code",
    "id": "g02ZcLLebtW0",
    "scrolled": true
   },
   "outputs": [],
   "source": [
    "X = df[['Unique_ID', 'Likes', 'Comments', 'Popularity', 'Followers',\n",
    "       'Year', 'all-music','lil', 'electronic', 'music','danceedm', 'rbsoul', 'latin', 'pop', 'dha',\n",
    "       'rock', 'dj', 'do', 'classical', 'r3hab', 'mad','steve', 'monstercat']]\n",
    "Y = df['Views']"
   ]
  },
  {
   "cell_type": "code",
   "execution_count": null,
   "metadata": {
    "colab": {},
    "colab_type": "code",
    "id": "-Cnkvr9ybtUk",
    "scrolled": true
   },
   "outputs": [],
   "source": [
    "xtrain, xtest,ytrain,ytest = train_test_split(X,Y)"
   ]
  },
  {
   "cell_type": "markdown",
   "metadata": {
    "colab_type": "text",
    "id": "Zwxhai-VNK-c"
   },
   "source": [
    "## Grid Search"
   ]
  },
  {
   "cell_type": "code",
   "execution_count": null,
   "metadata": {
    "colab": {},
    "colab_type": "code",
    "id": "tEHH3nrxivAU",
    "scrolled": true
   },
   "outputs": [],
   "source": [
    "from sklearn.model_selection import GridSearchCV"
   ]
  },
  {
   "cell_type": "code",
   "execution_count": null,
   "metadata": {
    "colab": {},
    "colab_type": "code",
    "id": "BD6LDsYEmP-e",
    "scrolled": true
   },
   "outputs": [],
   "source": [
    "# I used 3 features at a time but here, I wrote it in once.\n",
    "subsample = [1,0.8,0.7]\n",
    "gamma = [0,3,5]\n",
    "colsample_bytree = [1,0.8,0.7]\n",
    "learning rate = [0.1,0.05,0.03]\n",
    "n_estimator = [100,500,1000]\n",
    "max_depth = [5,6,7,8]\n",
    "param_grid = dict(subsample =subsample,\n",
    "                  gamma=gamma,\n",
    "                  colsample_bytree=colsample_bytree\n",
    "                  learning_rate = learning_rate,\n",
    "                  n_estimator = n_estimator,\n",
    "                  max_depth = max_depth)"
   ]
  },
  {
   "cell_type": "code",
   "execution_count": null,
   "metadata": {
    "colab": {},
    "colab_type": "code",
    "id": "YuVfxS-umP6x",
    "scrolled": true
   },
   "outputs": [],
   "source": [
    "grid_search = GridSearchCV(model, param_grid, scoring=\"neg_mean_squared_error\", n_jobs=-1, cv=5,verbose=12)"
   ]
  },
  {
   "cell_type": "code",
   "execution_count": null,
   "metadata": {
    "colab": {},
    "colab_type": "code",
    "id": "46MMvYdpmP4Y",
    "scrolled": true
   },
   "outputs": [],
   "source": [
    "grid_result = grid_search.fit(X, Y)"
   ]
  },
  {
   "cell_type": "code",
   "execution_count": null,
   "metadata": {
    "colab": {},
    "colab_type": "code",
    "id": "-JP3ssrCXXrU",
    "scrolled": true
   },
   "outputs": [],
   "source": [
    "grid_result.best_params_"
   ]
  },
  {
   "cell_type": "markdown",
   "metadata": {
    "colab_type": "text",
    "id": "fLbhG5BQNc9p"
   },
   "source": [
    "## Model Training"
   ]
  },
  {
   "cell_type": "code",
   "execution_count": null,
   "metadata": {
    "colab": {},
    "colab_type": "code",
    "id": "s8S148BvbtQq",
    "scrolled": true
   },
   "outputs": [],
   "source": [
    "model1= xgb.XGBRegressor(learning_rate=0.1,\n",
    "                        n_estimators=500,\n",
    "                        max_depth=8,\n",
    "                        colsample_bytree=0.8,\n",
    "                        subsample=0.7\n",
    "                        booster='gbtree',\n",
    "                        objective='reg:squarederror',\n",
    "                        )"
   ]
  },
  {
   "cell_type": "code",
   "execution_count": null,
   "metadata": {
    "colab": {
     "base_uri": "https://localhost:8080/",
     "height": 1000
    },
    "colab_type": "code",
    "id": "NLauM_WzbtOY",
    "outputId": "0c5f14ca-20bd-4232-fb99-16f6039f8bc3",
    "scrolled": false
   },
   "outputs": [],
   "source": [
    "model1.fit(xtrain,ytrain, eval_set=[(xtest,ytest)])"
   ]
  },
  {
   "cell_type": "markdown",
   "metadata": {
    "colab_type": "text",
    "id": "_rE-uC2TX2e4"
   },
   "source": [
    "### Getting Importance Features"
   ]
  },
  {
   "cell_type": "code",
   "execution_count": null,
   "metadata": {
    "colab": {},
    "colab_type": "code",
    "id": "38ex0fRPEw_z",
    "scrolled": true
   },
   "outputs": [],
   "source": [
    "important_featues = pd.DataFrame(model1.get_booster().get_score().items(), columns=['feature','importance']).sort_values('importance', ascending=False)"
   ]
  },
  {
   "cell_type": "code",
   "execution_count": null,
   "metadata": {
    "colab": {
     "base_uri": "https://localhost:8080/",
     "height": 104
    },
    "colab_type": "code",
    "id": "IDRcGgPTnIR2",
    "outputId": "94674114-f63d-417c-80b3-7f65fe66ee44",
    "scrolled": true
   },
   "outputs": [],
   "source": [
    "important_featues['feature'][:30].values #top 30 features"
   ]
  },
  {
   "cell_type": "code",
   "execution_count": null,
   "metadata": {
    "colab": {
     "base_uri": "https://localhost:8080/",
     "height": 638
    },
    "colab_type": "code",
    "id": "ST_xn2ZrmpWn",
    "outputId": "4dc8718f-cadc-4d9f-84e6-e6ff0cbc5ed2",
    "scrolled": true
   },
   "outputs": [],
   "source": [
    "fig, ax = plt.subplots(figsize=(10,10))\n",
    "xgb.plot_importance(model1,max_num_features=30,ax=ax)"
   ]
  },
  {
   "cell_type": "markdown",
   "metadata": {
    "colab_type": "text",
    "id": "RRfwiNNoNjj0"
   },
   "source": [
    "## Introducing Test_Set"
   ]
  },
  {
   "cell_type": "code",
   "execution_count": null,
   "metadata": {
    "colab": {},
    "colab_type": "code",
    "id": "N2aYcwKsfqiW",
    "scrolled": true
   },
   "outputs": [],
   "source": [
    "testSet = pd.read_csv('/content/drive/My Drive/Data_Test.csv')"
   ]
  },
  {
   "cell_type": "markdown",
   "metadata": {
    "colab_type": "text",
    "id": "zaQPfs3cYmKD"
   },
   "source": [
    "### Preprocessing"
   ]
  },
  {
   "cell_type": "code",
   "execution_count": null,
   "metadata": {
    "colab": {},
    "colab_type": "code",
    "id": "Cvv4PIS-fqgh",
    "scrolled": true
   },
   "outputs": [],
   "source": [
    "# Convert Timestamp column into datetime datatype\n",
    "testSet['Timestamp'] = pd.to_datetime(testSet['Timestamp']).dt.strftime('%Y-%m-%d %H:%I:%S')\n",
    "#set Timestamp as index\n",
    "testSet.index = testSet['Timestamp']\n",
    "#drop Timestamp column from original dataset\n",
    "testSet.drop(columns=['Timestamp'],inplace=True)\n",
    "\n",
    "#sorting by index\n",
    "testSet.sort_index(inplace=True)"
   ]
  },
  {
   "cell_type": "code",
   "execution_count": null,
   "metadata": {
    "colab": {},
    "colab_type": "code",
    "id": "Dj8XcBy-fqXt",
    "scrolled": true
   },
   "outputs": [],
   "source": [
    "testSet['Likes'] = makeNumeric(testSet,'Likes')\n",
    "testSet['Popularity'] = makeNumeric(testSet,'Popularity')"
   ]
  },
  {
   "cell_type": "markdown",
   "metadata": {
    "colab_type": "text",
    "id": "dDnduX0rYqln"
   },
   "source": [
    "### Features Creation"
   ]
  },
  {
   "cell_type": "code",
   "execution_count": null,
   "metadata": {
    "colab": {
     "base_uri": "https://localhost:8080/",
     "height": 237
    },
    "colab_type": "code",
    "id": "vHw7-3Vrmqsp",
    "outputId": "8bfa8a20-acbf-4a25-c0be-ada0622d612d",
    "scrolled": true
   },
   "outputs": [],
   "source": [
    "testSet.describe().T"
   ]
  },
  {
   "cell_type": "code",
   "execution_count": null,
   "metadata": {
    "colab": {},
    "colab_type": "code",
    "id": "-L4V0jIKZT0a",
    "scrolled": true
   },
   "outputs": [],
   "source": [
    "testSet['Year'] = date.today().year- pd.DatetimeIndex(testSet.index).year"
   ]
  },
  {
   "cell_type": "code",
   "execution_count": null,
   "metadata": {
    "colab": {},
    "colab_type": "code",
    "id": "NMB83q-9aml2",
    "scrolled": true
   },
   "outputs": [],
   "source": [
    "testSet['Month'] = pd.DatetimeIndex(testSet.index).month"
   ]
  },
  {
   "cell_type": "code",
   "execution_count": null,
   "metadata": {
    "colab": {},
    "colab_type": "code",
    "id": "Rpvr9wRr7fzV",
    "scrolled": true
   },
   "outputs": [],
   "source": [
    "testSet['day_name'] = pd.DatetimeIndex(testSet.index).dayofweek"
   ]
  },
  {
   "cell_type": "code",
   "execution_count": null,
   "metadata": {
    "colab": {},
    "colab_type": "code",
    "id": "D6TMx_W9w2Lg",
    "scrolled": true
   },
   "outputs": [],
   "source": [
    "testSet = pd.concat([testSet,pd.get_dummies(testSet['Genre'])] ,axis=1 )"
   ]
  },
  {
   "cell_type": "code",
   "execution_count": null,
   "metadata": {
    "colab": {},
    "colab_type": "code",
    "id": "pxWMSZF0FHGi",
    "scrolled": true
   },
   "outputs": [],
   "source": [
    "testSet['Name'] = testSet['Name'].str.replace('[^\\w\\s#@/:%.,_-]', '', flags=re.UNICODE)\n",
    "testSet['Name'] = testSet['Name'].str.lower()\n",
    "top_name  =  pd.Series(' '.join(testSet['Name']).lower().split()).value_counts()[:100]\n",
    "top_name = top_name.index\n",
    "\n",
    "for top in reversed(top_name):\n",
    "    testSet.loc[(testSet['Name'].str.contains(str(top))==True),'Top_name'] = top\n",
    "\n",
    "\n",
    "testSet = pd.concat([testSet,pd.get_dummies(testSet['Top_name'])] ,axis=1 )"
   ]
  },
  {
   "cell_type": "code",
   "execution_count": null,
   "metadata": {
    "colab": {},
    "colab_type": "code",
    "id": "1frcj5eHIo41",
    "scrolled": true
   },
   "outputs": [],
   "source": [
    "testSet['Name'] = testSet['Name'].str.replace('[^\\w\\s#@/:%.,_-]', '', flags=re.UNICODE)"
   ]
  },
  {
   "cell_type": "code",
   "execution_count": null,
   "metadata": {
    "colab": {},
    "colab_type": "code",
    "id": "B-QSYCk0IqaT",
    "scrolled": true
   },
   "outputs": [],
   "source": [
    "testSet = pd.concat([testSet,pd.get_dummies(testSet['Name'])] ,axis=1 )"
   ]
  },
  {
   "cell_type": "markdown",
   "metadata": {
    "colab_type": "text",
    "id": "FXgzR-gKYJLz"
   },
   "source": [
    "### Comparison of Distribution of Trainset and Testset features:"
   ]
  },
  {
   "cell_type": "code",
   "execution_count": null,
   "metadata": {
    "colab": {
     "base_uri": "https://localhost:8080/",
     "height": 621
    },
    "colab_type": "code",
    "id": "5rEKMk0VIPky",
    "outputId": "30708334-5a2e-473c-e42f-05b03d904eb3",
    "scrolled": true
   },
   "outputs": [],
   "source": [
    "plt.figure(figsize=(22,10))\n",
    "\n",
    "plt.subplot(2,4,1)\n",
    "testSet['Comments'].plot(color='red')\n",
    "plt.title('Comments')\n",
    "plt.xticks([], [])\n",
    "\n",
    "plt.subplot(2,4,2)\n",
    "testSet['Popularity'].plot(color='orange')\n",
    "plt.title('Popularity')\n",
    "plt.xticks([], [])\n",
    "\n",
    "plt.subplot(2,4,3)\n",
    "testSet['Likes'].plot(color='purple')\n",
    "plt.title('Likes')\n",
    "plt.xticks([], [])\n",
    "\n",
    "plt.subplot(2,4,4)\n",
    "testSet['Followers'].plot(color='green')\n",
    "plt.title('Followers')\n",
    "plt.xticks([], [])\n",
    "\n",
    "\n",
    "plt.subplot(2,4,5)\n",
    "df['Comments'].plot(color='red')\n",
    "plt.title('Comments')\n",
    "plt.xticks([], [])\n",
    "\n",
    "plt.subplot(2,4,6)\n",
    "df['Popularity'].plot(color='orange')\n",
    "plt.title('Popularity')\n",
    "plt.xticks([], [])\n",
    "\n",
    "plt.subplot(2,4,7)\n",
    "df['Likes'].plot(color='purple')\n",
    "plt.title('Likes')\n",
    "plt.xticks([], [])\n",
    "\n",
    "plt.subplot(2,4,8)\n",
    "df['Followers'].plot(color='green')\n",
    "plt.title('Followers')\n",
    "plt.xticks([], [])\n"
   ]
  },
  {
   "cell_type": "markdown",
   "metadata": {
    "colab_type": "text",
    "id": "V6W3eAqOYzZJ"
   },
   "source": [
    "### Predicting Views"
   ]
  },
  {
   "cell_type": "code",
   "execution_count": null,
   "metadata": {
    "colab": {},
    "colab_type": "code",
    "id": "FX9DKrQXfqKD",
    "scrolled": true
   },
   "outputs": [],
   "source": [
    "testInput = testSet[[ 'Unique_ID', 'Likes', 'Comments', 'Popularity', 'Followers',\n",
    "       'Year', 'all-music','lil', 'electronic', 'music','danceedm', 'rbsoul', 'latin', 'pop', 'dha',\n",
    "       'rock', 'dj', 'do', 'classical', 'r3hab', 'mad','steve', 'monstercat']]"
   ]
  },
  {
   "cell_type": "code",
   "execution_count": null,
   "metadata": {
    "colab": {},
    "colab_type": "code",
    "id": "e3KYu_H0cuiR",
    "scrolled": true
   },
   "outputs": [],
   "source": [
    "testSet['Views'] = model1.predict(testInput)  "
   ]
  },
  {
   "cell_type": "markdown",
   "metadata": {
    "colab_type": "text",
    "id": "UqqEhv3AY8dY"
   },
   "source": [
    "### Comparision of Views Vs other Features of both train and test set"
   ]
  },
  {
   "cell_type": "code",
   "execution_count": null,
   "metadata": {
    "colab": {
     "base_uri": "https://localhost:8080/",
     "height": 293
    },
    "colab_type": "code",
    "id": "MxYCDZvXK4Km",
    "outputId": "df56ee8d-4e53-426c-cb9b-51d0b404890c",
    "scrolled": true
   },
   "outputs": [],
   "source": [
    "plt.figure(figsize=(16,4))\n",
    "plt.subplot(1,2,1)\n",
    "plt.scatter(testSet['Popularity'],testSet['Views'])\n",
    "\n",
    "plt.subplot(1,2,2)\n",
    "plt.scatter(df['Popularity'],df['Views'])"
   ]
  },
  {
   "cell_type": "code",
   "execution_count": null,
   "metadata": {
    "colab": {
     "base_uri": "https://localhost:8080/",
     "height": 293
    },
    "colab_type": "code",
    "id": "QV0d-_VPKxE2",
    "outputId": "3da8d878-5481-4838-c879-2cc2ef06bc90",
    "scrolled": true
   },
   "outputs": [],
   "source": [
    "plt.figure(figsize=(16,4))\n",
    "plt.subplot(1,2,1)\n",
    "plt.scatter(testSet['Likes'],testSet['Views'])\n",
    "\n",
    "plt.subplot(1,2,2)\n",
    "plt.scatter(df['Likes'],df['Views'])"
   ]
  },
  {
   "cell_type": "code",
   "execution_count": null,
   "metadata": {
    "colab": {
     "base_uri": "https://localhost:8080/",
     "height": 306
    },
    "colab_type": "code",
    "id": "1XH4zpJjVV0I",
    "outputId": "6bcadd93-6d4a-4014-8fc4-f723ba202968",
    "scrolled": true
   },
   "outputs": [],
   "source": [
    "plt.figure(figsize=(16,4))\n",
    "plt.subplot(1,2,1)\n",
    "plt.scatter(testSet['Followers'],testSet['Views'])\n",
    "\n",
    "plt.subplot(1,2,2)\n",
    "plt.scatter(df['Followers'],df['Views'])"
   ]
  },
  {
   "cell_type": "code",
   "execution_count": null,
   "metadata": {
    "colab": {
     "base_uri": "https://localhost:8080/",
     "height": 293
    },
    "colab_type": "code",
    "id": "igDMSdacJ_8e",
    "outputId": "c7105835-b1e3-4585-f8fc-4dee4afa763f",
    "scrolled": true
   },
   "outputs": [],
   "source": [
    "plt.figure(figsize=(16,4))\n",
    "plt.subplot(1,2,1)\n",
    "plt.scatter(testSet['Comments'],testSet['Views'])\n",
    "\n",
    "plt.subplot(1,2,2)\n",
    "plt.scatter(df['Comments'],df['Views'])"
   ]
  },
  {
   "cell_type": "code",
   "execution_count": null,
   "metadata": {
    "colab": {
     "base_uri": "https://localhost:8080/",
     "height": 293
    },
    "colab_type": "code",
    "id": "nnqDcns_w2o1",
    "outputId": "58b66497-f478-4d9d-aa76-daaf194109a6",
    "scrolled": true
   },
   "outputs": [],
   "source": [
    "plt.figure(figsize=(16,4))\n",
    "plt.subplot(1,2,1)\n",
    "plt.scatter(testSet['Unique_ID'],testSet['Views'])\n",
    "\n",
    "plt.subplot(1,2,2)\n",
    "plt.scatter(df['Unique_ID'],df['Views'])"
   ]
  },
  {
   "cell_type": "markdown",
   "metadata": {
    "colab_type": "text",
    "id": "3aMHS7-OZQZL"
   },
   "source": [
    "### Creating Dataframe for Submission"
   ]
  },
  {
   "cell_type": "code",
   "execution_count": null,
   "metadata": {
    "colab": {},
    "colab_type": "code",
    "id": "TKL7bYnAKGVf",
    "scrolled": true
   },
   "outputs": [],
   "source": [
    "predtest = pd.DataFrame({'Unique_ID':testSet['Unique_ID'],\n",
    "                     'Views': testSet['Views'] })"
   ]
  },
  {
   "cell_type": "code",
   "execution_count": null,
   "metadata": {
    "colab": {},
    "colab_type": "code",
    "id": "F7Pf-jF3fqDP",
    "scrolled": true
   },
   "outputs": [],
   "source": [
    "predtest['Views'] = predtest['Views'].astype(int)"
   ]
  },
  {
   "cell_type": "markdown",
   "metadata": {
    "colab_type": "text",
    "id": "uE-WQmddZX-C"
   },
   "source": [
    "### Distribution of Views Train Vs Test set"
   ]
  },
  {
   "cell_type": "code",
   "execution_count": null,
   "metadata": {
    "colab": {
     "base_uri": "https://localhost:8080/",
     "height": 290
    },
    "colab_type": "code",
    "id": "X56F8iA3jYNv",
    "outputId": "77fa9ebe-4efa-4df3-a2f1-89a803e69e73",
    "scrolled": true
   },
   "outputs": [],
   "source": [
    "plt.figure(figsize=(16,4))\n",
    "plt.subplot(1,2,1)\n",
    "predtest['Views'].plot()\n",
    "plt.xticks([],[])\n",
    "\n",
    "plt.subplot(1,2,2)\n",
    "df['Views'].plot()\n",
    "plt.xticks([],[])"
   ]
  },
  {
   "cell_type": "code",
   "execution_count": null,
   "metadata": {
    "colab": {},
    "colab_type": "code",
    "id": "gcrP-hW1gVDv",
    "scrolled": true
   },
   "outputs": [],
   "source": [
    "predtest.to_excel('/content/drive/My Drive/Submission1.xlsx',index=False) # Excel file to be submitted"
   ]
  },
  {
   "cell_type": "code",
   "execution_count": null,
   "metadata": {
    "colab": {},
    "colab_type": "code",
    "id": "vgsC96UEA1_K",
    "scrolled": true
   },
   "outputs": [],
   "source": [
    "tmp = pd.read_excel('/content/drive/My Drive/Submission1.xlsx')"
   ]
  },
  {
   "cell_type": "code",
   "execution_count": null,
   "metadata": {
    "colab": {},
    "colab_type": "code",
    "id": "qBCY3XzMzoan",
    "scrolled": true
   },
   "outputs": [],
   "source": [
    "testSet.loc[:,'Views'] =  np.array(tmp['Views'])"
   ]
  },
  {
   "cell_type": "markdown",
   "metadata": {},
   "source": [
    "### Implementation Approach 4 :"
   ]
  },
  {
   "cell_type": "code",
   "execution_count": null,
   "metadata": {
    "colab": {
     "base_uri": "https://localhost:8080/",
     "height": 1000
    },
    "colab_type": "code",
    "id": "Xoj7t_1QCR5l",
    "outputId": "7c1bb294-d126-42f2-a17b-cd81839bbd3e",
    "scrolled": false
   },
   "outputs": [],
   "source": [
    "views = np.array(tmp['Views'])\n",
    "rmse = []\n",
    "for i in range(5):\n",
    "    print('\\n\\n') \n",
    "    print(i+1)\n",
    "    testSet.loc[:,'Views'] =  views\n",
    "    frameds = [df[[ 'Unique_ID', 'Likes', 'Comments', 'Popularity', 'Followers',\n",
    "       'Year', 'all-music','lil', 'electronic', 'music','danceedm', 'rbsoul', 'latin', 'pop', 'dha',\n",
    "       'rock', 'dj', 'do', 'classical', 'r3hab', 'mad','steve', 'monstercat']],\n",
    "           testSet[[ 'Unique_ID', 'Likes', 'Comments', 'Popularity', 'Followers',\n",
    "       'Year', 'all-music','lil', 'electronic', 'music','danceedm', 'rbsoul', 'latin', 'pop', 'dha',\n",
    "       'rock', 'dj', 'do', 'classical', 'r3hab', 'mad','steve', 'monstercat']]]\n",
    "    #concatenation of trainset and (testset+predicted_target)\n",
    "    final = pd.concat(frameds)\n",
    "    \n",
    "    X = final[[ 'Unique_ID', 'Likes', 'Comments', 'Popularity', 'Followers',\n",
    "       'Year', 'all-music','lil', 'electronic', 'music','danceedm', 'rbsoul', 'latin', 'pop', 'dha',\n",
    "       'rock', 'dj', 'do', 'classical', 'r3hab', 'mad','steve', 'monstercat']]\n",
    "    Y = final['Views']\n",
    "\n",
    "    model1.fit(X,Y, eval_set=[(xtest,ytest)])\n",
    "  \n",
    "    testInput = testSet[[ 'Unique_ID', 'Likes', 'Comments', 'Popularity', 'Followers',\n",
    "       'Year', 'all-music','lil', 'electronic', 'music','danceedm', 'rbsoul', 'latin', 'pop', 'dha',\n",
    "       'rock', 'dj', 'do', 'classical', 'r3hab', 'mad','steve', 'monstercat']]\n",
    "    testSet['Views'] = model1.predict(testInput)  \n",
    "    \n",
    "    # these two are manually derive some outlier that should be in prediction\n",
    "    testSet.loc[(testSet['Popularity']>100000) & (testSet['Views']>170000000),'Views'] = 195000000\n",
    "    testSet.loc[testSet['Unique_ID']==86556,'Views'] = 135233520\n",
    "    views = testSet['Views'].astype(int)"
   ]
  },
  {
   "cell_type": "code",
   "execution_count": null,
   "metadata": {
    "colab": {},
    "colab_type": "code",
    "id": "8KPzvg3kbDrw",
    "scrolled": true
   },
   "outputs": [],
   "source": [
    "predtest = pd.DataFrame({'Unique_ID':testSet['Unique_ID'],\n",
    "                     'Views': views })"
   ]
  },
  {
   "cell_type": "code",
   "execution_count": null,
   "metadata": {
    "colab": {
     "base_uri": "https://localhost:8080/",
     "height": 112
    },
    "colab_type": "code",
    "id": "j-XGv6LlbxOA",
    "outputId": "2668fbd9-d653-4396-ec78-6a20bb1df208",
    "scrolled": true
   },
   "outputs": [],
   "source": [
    "predtest.describe().T"
   ]
  },
  {
   "cell_type": "code",
   "execution_count": null,
   "metadata": {
    "colab": {},
    "colab_type": "code",
    "id": "DU0MEFq6b68J",
    "scrolled": true
   },
   "outputs": [],
   "source": [
    "predtest.to_excel('/content/drive/My Drive/Submission2.xlsx',index=False) # Excel file to be submitted"
   ]
  }
 ],
 "metadata": {
  "accelerator": "GPU",
  "colab": {
   "collapsed_sections": [
    "hzbywfX2N8Wn",
    "NFHSI3oGOBlu",
    "xEMVgBTy1AUL",
    "SVI3mllDFrip",
    "JlcyeoqlUjWv",
    "f1AKQOLeULyD",
    "HIEDpCi1T6_N",
    "WGDwUgCrWd2g",
    "QXDZn9muNUGJ",
    "Zwxhai-VNK-c",
    "H0o3712VdbD8",
    "fLbhG5BQNc9p",
    "dDnduX0rYqln",
    "V6W3eAqOYzZJ",
    "3aMHS7-OZQZL",
    "uE-WQmddZX-C"
   ],
   "name": "Untitled0.ipynb",
   "provenance": []
  },
  "kernelspec": {
   "display_name": "Python 3",
   "language": "python",
   "name": "python3"
  },
  "language_info": {
   "codemirror_mode": {
    "name": "ipython",
    "version": 3
   },
   "file_extension": ".py",
   "mimetype": "text/x-python",
   "name": "python",
   "nbconvert_exporter": "python",
   "pygments_lexer": "ipython3",
   "version": "3.6.8"
  }
 },
 "nbformat": 4,
 "nbformat_minor": 1
}
